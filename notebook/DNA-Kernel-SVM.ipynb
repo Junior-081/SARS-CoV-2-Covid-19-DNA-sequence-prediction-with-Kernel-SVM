{
 "cells": [
  {
   "cell_type": "markdown",
   "id": "bf32637a",
   "metadata": {},
   "source": [
    "### Import of some Libraries"
   ]
  },
  {
   "cell_type": "code",
   "execution_count": 1,
   "id": "427ae13e",
   "metadata": {},
   "outputs": [],
   "source": [
    "import numpy as np\n",
    "import matplotlib.pyplot as plt\n",
    "%matplotlib inline\n",
    "import pandas as pd\n",
    "import cvxopt\n",
    "import warnings\n",
    "warnings.filterwarnings(\"ignore\" )"
   ]
  },
  {
   "cell_type": "markdown",
   "id": "81581497",
   "metadata": {},
   "source": [
    "### Import of DataSet"
   ]
  },
  {
   "cell_type": "code",
   "execution_count": 2,
   "id": "6d783771",
   "metadata": {},
   "outputs": [],
   "source": [
    "#Import of DataSet\n",
    "X = np.loadtxt('Xtr.csv', skiprows=1, usecols=(1,), dtype=str, delimiter=',')\n",
    "y = np.loadtxt('Ytr.csv', skiprows=1, usecols=(1,), dtype=int, delimiter=',')\n",
    "Xtest = np.loadtxt('Xte.csv', skiprows=1, usecols=(1,), dtype=str, delimiter=',')\n",
    "\n",
    "X_tr_vector = np.loadtxt('Xtr_vectors.csv', skiprows=1, usecols=(), dtype=str, delimiter=',')\n",
    "X_test_vector = np.loadtxt('Xte_vectors.csv', skiprows=1, usecols=(), dtype=str, delimiter=',')\n",
    "\n",
    "X_full = np.hstack([X, Xtest])\n",
    "y = 2*y - 1."
   ]
  },
  {
   "cell_type": "code",
   "execution_count": 3,
   "id": "89b70f5e",
   "metadata": {},
   "outputs": [],
   "source": [
    "# X.shape,y.shape, X_test.shape"
   ]
  },
  {
   "cell_type": "markdown",
   "id": "805a0075",
   "metadata": {},
   "source": [
    "### Break up a sequence into subsequences"
   ]
  },
  {
   "cell_type": "code",
   "execution_count": 4,
   "id": "db9a8203",
   "metadata": {},
   "outputs": [],
   "source": [
    "def get_kmers(sequence, kmer_size=4):\n",
    "    return [sequence[i: i+kmer_size] for i in range(len(sequence) - kmer_size + 1)]\n",
    "\n",
    "def base2int(c):\n",
    "    return {'A': 0, 'C': 1, 'G': 2, 'T': 3}.get(c, 0)\n",
    "\n",
    "def index(kmer):\n",
    "    # Transform the kmer into sequence of character indices\n",
    "    return [base2int(c) for c in kmer]"
   ]
  },
  {
   "cell_type": "code",
   "execution_count": 5,
   "id": "9b894f07",
   "metadata": {},
   "outputs": [],
   "source": [
    "def spectral_embedding(sequence):\n",
    "    kmers = get_kmers(sequence)\n",
    "    multiplier = 4 ** np.arange(len(kmer))[::-1]\n",
    "    kmer_indices = [multiplier.dot(index(kmer)) for kmer in kmers]\n",
    "    one_hot_vector = np.zeros(4**kmer_size).astype(int)\n",
    "    for kmer_index in kmer_indices:\n",
    "        one_hot_vector[kmer_index] += 1\n",
    "    return one_hot_vector"
   ]
  },
  {
   "cell_type": "code",
   "execution_count": 6,
   "id": "d8c8323c",
   "metadata": {},
   "outputs": [],
   "source": [
    "kmer_size = 4\n",
    "kmer = X[0][0:kmer_size] \n",
    "base_indices = np.array([base2int(base) for base in kmer])\n",
    "# base_indices\n",
    "multiplier = 4 ** np.arange(len(kmer))\n",
    "# multiplier\n",
    "kmer_index = multiplier[::-1].dot(base_indices)\n",
    "# kmer_index"
   ]
  },
  {
   "cell_type": "markdown",
   "id": "b49efb79",
   "metadata": {},
   "source": [
    "### Enconding of X_train"
   ]
  },
  {
   "cell_type": "code",
   "execution_count": 7,
   "id": "82a47b77",
   "metadata": {},
   "outputs": [],
   "source": [
    "liste2=[]\n",
    "for i in X:\n",
    "    sequence = i\n",
    "    liste2.append(spectral_embedding(sequence))"
   ]
  },
  {
   "cell_type": "code",
   "execution_count": 8,
   "id": "e4ec4bfc",
   "metadata": {},
   "outputs": [],
   "source": [
    "l=np.array(liste2)\n",
    "X_train=l/(len(sequence)-kmer_size+1)"
   ]
  },
  {
   "cell_type": "code",
   "execution_count": 9,
   "id": "dcb6ae7c",
   "metadata": {},
   "outputs": [
    {
     "data": {
      "text/plain": [
       "array([[0.00668896, 0.00334448, 0.01003344, ..., 0.        , 0.01003344,\n",
       "        0.01003344],\n",
       "       [0.00334448, 0.        , 0.01337793, ..., 0.00334448, 0.00668896,\n",
       "        0.00668896],\n",
       "       [0.00668896, 0.00334448, 0.00668896, ..., 0.00334448, 0.00668896,\n",
       "        0.01003344],\n",
       "       ...,\n",
       "       [0.00334448, 0.00334448, 0.00334448, ..., 0.01003344, 0.01672241,\n",
       "        0.0367893 ],\n",
       "       [0.02341137, 0.01003344, 0.01003344, ..., 0.00334448, 0.        ,\n",
       "        0.00334448],\n",
       "       [0.        , 0.00334448, 0.        , ..., 0.00668896, 0.01672241,\n",
       "        0.00668896]])"
      ]
     },
     "execution_count": 9,
     "metadata": {},
     "output_type": "execute_result"
    }
   ],
   "source": [
    "X_train"
   ]
  },
  {
   "cell_type": "markdown",
   "id": "6b84454f",
   "metadata": {},
   "source": [
    "### Enconding of X_test"
   ]
  },
  {
   "cell_type": "code",
   "execution_count": 10,
   "id": "3b4b19c7",
   "metadata": {},
   "outputs": [],
   "source": [
    "kmer2 = Xtest[0][0:kmer_size] \n",
    "base_indices2 = np.array([base2int(base) for base in kmer2])\n",
    "# base_indices\n",
    "multiplier2 = 4 ** np.arange(len(kmer2))\n",
    "# multiplier\n",
    "kmer_index2 = multiplier2[::-1].dot(base_indices2)"
   ]
  },
  {
   "cell_type": "code",
   "execution_count": 11,
   "id": "f5b5883d",
   "metadata": {},
   "outputs": [],
   "source": [
    "def spectral_embedding_test(sequence2):\n",
    "    kmers = get_kmers(sequence2)\n",
    "    multiplier = 4 ** np.arange(len(kmer2))[::-1]\n",
    "    kmer_indices = [multiplier.dot(index(kmer2)) for kmer2 in kmers]\n",
    "    one_hot_vector = np.zeros(4**kmer_size).astype(int)\n",
    "    for kmer_index in kmer_indices:\n",
    "        one_hot_vector[kmer_index] += 1\n",
    "    return one_hot_vector"
   ]
  },
  {
   "cell_type": "code",
   "execution_count": 12,
   "id": "a0788593",
   "metadata": {},
   "outputs": [],
   "source": [
    "liste_=[]\n",
    "for j in Xtest:\n",
    "    sequence2 = j\n",
    "    liste_.append(spectral_embedding_test(sequence2))"
   ]
  },
  {
   "cell_type": "code",
   "execution_count": 13,
   "id": "f362578f",
   "metadata": {},
   "outputs": [],
   "source": [
    "d=np.array(liste_)\n",
    "X_test=d/(len(sequence2)-kmer_size+1)"
   ]
  },
  {
   "cell_type": "code",
   "execution_count": 14,
   "id": "aa6f4ecb",
   "metadata": {},
   "outputs": [
    {
     "data": {
      "text/plain": [
       "array([[0.        , 0.        , 0.        , ..., 0.00334448, 0.00334448,\n",
       "        0.00668896],\n",
       "       [0.01003344, 0.        , 0.01337793, ..., 0.00668896, 0.01003344,\n",
       "        0.00668896],\n",
       "       [0.        , 0.00668896, 0.00334448, ..., 0.00668896, 0.00668896,\n",
       "        0.01337793],\n",
       "       ...,\n",
       "       [0.        , 0.00334448, 0.01003344, ..., 0.        , 0.00334448,\n",
       "        0.        ],\n",
       "       [0.00334448, 0.00334448, 0.00334448, ..., 0.00334448, 0.        ,\n",
       "        0.00334448],\n",
       "       [0.00668896, 0.01003344, 0.        , ..., 0.01003344, 0.        ,\n",
       "        0.        ]])"
      ]
     },
     "execution_count": 14,
     "metadata": {},
     "output_type": "execute_result"
    }
   ],
   "source": [
    "X_test"
   ]
  },
  {
   "cell_type": "code",
   "execution_count": 15,
   "id": "66def0fa",
   "metadata": {},
   "outputs": [],
   "source": [
    "#Split y_train and y_test\n",
    "#you can shuffle y \n",
    "\n",
    "y_train,y_test=y,y[1000:]"
   ]
  },
  {
   "cell_type": "code",
   "execution_count": 16,
   "id": "8e74cf8f",
   "metadata": {},
   "outputs": [],
   "source": [
    "#All values are converted to float\n",
    "\n",
    "X_train=X_train.astype(float) \n",
    "y_train=y_train.astype(float) \n",
    "X_test=X_test.astype(float) "
   ]
  },
  {
   "cell_type": "markdown",
   "id": "a4787283",
   "metadata": {},
   "source": [
    "### Utilities"
   ]
  },
  {
   "cell_type": "code",
   "execution_count": 17,
   "id": "360b37ef",
   "metadata": {},
   "outputs": [],
   "source": [
    "# Utilities\n",
    "def cvxopt_qp(P, q, G, h, A, b):\n",
    "    P = .5 * (P + P.T)\n",
    "    cvx_matrices = [\n",
    "        cvxopt.matrix(M) if M is not None else None for M in [P, q, G, h, A, b] \n",
    "    ]\n",
    "    #cvxopt.solvers.options['show_progress'] = False\n",
    "    solution = cvxopt.solvers.qp(*cvx_matrices, options={'show_progress': False})\n",
    "    return np.array(solution['x']).flatten()\n",
    "\n",
    "solve_qp = cvxopt_qp"
   ]
  },
  {
   "cell_type": "code",
   "execution_count": 18,
   "id": "47269081",
   "metadata": {},
   "outputs": [],
   "source": [
    "# Prediction error\n",
    "def error(ypred, ytrue):\n",
    "    e = (ypred != ytrue).mean()\n",
    "    return e\n",
    "\n",
    "def add_column_ones(X):\n",
    "    n = X.shape[0]\n",
    "    return np.hstack([X, np.ones((n, 1))])\n",
    "\n",
    "# Visualization\n",
    "# References: https://scikit-learn.org/stable/auto_examples/svm/plot_iris.html\n",
    "def make_meshgrid(x, y, h=.02):\n",
    "    \"\"\"Create a mesh of points to plot in\n",
    "\n",
    "    Parameters\n",
    "    ----------\n",
    "    x: data to base x-axis meshgrid on\n",
    "    y: data to base y-axis meshgrid on\n",
    "    h: stepsize for meshgrid, optional\n",
    "\n",
    "    Returns\n",
    "    -------\n",
    "    xx, yy : ndarray\n",
    "    \"\"\"\n",
    "    x_min, x_max = x.min() - 1, x.max() + 1\n",
    "    y_min, y_max = y.min() - 1, y.max() + 1\n",
    "    xx, yy = np.meshgrid(np.arange(x_min, x_max, h),\n",
    "                         np.arange(y_min, y_max, h))\n",
    "    return xx, yy\n",
    "\n",
    "def plot_contours(classifier, xx, yy, add_intercept=False, **params):\n",
    "    \"\"\"Plot the decision boundaries for a classifier.\n",
    "    \n",
    "    Parameters\n",
    "    ----------\n",
    "    ax: matplotlib axes object\n",
    "    clf: a classifier\n",
    "    xx: meshgrid ndarray\n",
    "    yy: meshgrid ndarray\n",
    "    params: dictionary of params to pass to contourf, optional\n",
    "    \"\"\"\n",
    "    X = np.c_[xx.ravel(), yy.ravel()]\n",
    "    Z = classifier.predict(X)#, fit_intercept=add_intercept)\n",
    "    Z = Z.reshape(xx.shape)\n",
    "    out = plt.contourf(xx, yy, Z, **params)\n",
    "    return out\n",
    "\n",
    "def plot_decision_function(classifier, X_train, y_train, title='', add_intercept=False):\n",
    "    fig = plt.figure(figsize=(8,7))\n",
    "    X0, X1 = X_train[:, 0], X_train[:, 1]\n",
    "    xx, yy = make_meshgrid(X0, X1)\n",
    "    plot_contours(classifier, xx, yy, cmap=plt.cm.GnBu, alpha=0.5, add_intercept=add_intercept)\n",
    "    plt.scatter(X0, X1, c=y_train, cmap=plt.cm.GnBu, s=20, edgecolors='k')\n",
    "    plt.xlim(xx.min(), xx.max())\n",
    "    plt.ylim(yy.min(), yy.max())\n",
    "    plt.xlabel('$x_1$')\n",
    "    plt.ylabel('$x_2$')\n",
    "    plt.title(title)\n",
    "    plt.show()"
   ]
  },
  {
   "cell_type": "markdown",
   "id": "772146ce",
   "metadata": {},
   "source": [
    "### kernel implementations"
   ]
  },
  {
   "cell_type": "code",
   "execution_count": 19,
   "id": "239961c2",
   "metadata": {},
   "outputs": [],
   "source": [
    "\n",
    "def rbf_kernel(X1, X2, sigma=10):\n",
    "    '''\n",
    "    Returns the kernel matrix K(X1_i, X2_j): size (n1, n2)\n",
    "    where K is the RBF kernel with parameter sigma\n",
    "    \n",
    "    Input:\n",
    "    ------\n",
    "    X1: an (n1, p) matrix\n",
    "    X2: an (n2, p) matrix\n",
    "    sigma: float\n",
    "    '''\n",
    "    # For loop with rbf_kernel_element works but is slow in python\n",
    "    # Use matrix operations!\n",
    "    X2_norm = np.sum(X2 ** 2, axis = -1)\n",
    "    X1_norm = np.sum(X1 ** 2, axis = -1)\n",
    "    gamma = 1 / (2 * sigma ** 2)\n",
    "    K = np.exp(- gamma * (X1_norm[:, None] + X2_norm[None, :] - 2 * np.dot(X1, X2.T)))\n",
    "    return K\n",
    "\n",
    "def sigma_from_median(X):\n",
    "    '''\n",
    "    Returns the median of ||Xi-Xj||\n",
    "    \n",
    "    Input\n",
    "    -----\n",
    "    X: (n, p) matrix\n",
    "    '''\n",
    "    pairwise_diff = X[:, :, None] - X[:, :, None].T\n",
    "    pairwise_diff *= pairwise_diff\n",
    "    euclidean_dist = np.sqrt(pairwise_diff.sum(axis=1))\n",
    "    return np.median(euclidean_dist)\n",
    "\n",
    "def linear_kernel(X1, X2):\n",
    "    '''\n",
    "    Returns the kernel matrix K(X1_i, X2_j): size (n1, n2)\n",
    "    where K is the linear kernel\n",
    "    \n",
    "    Input:\n",
    "    ------\n",
    "    X1: an (n1, p) matrix\n",
    "    X2: an (n2, p) matrix\n",
    "    '''\n",
    "    return X1.dot(X2.T)\n",
    "\n",
    "def polynomial_kernel(X1, X2, degree=3):\n",
    "    '''\n",
    "    Returns the kernel matrix K(X1_i, X2_j): size (n1, n2)\n",
    "    where K is the polynomial kernel of degree `degree`\n",
    "    \n",
    "    Input:\n",
    "    ------\n",
    "    X1: an (n1, p) matrix\n",
    "    X2: an (n2, p) matrix\n",
    "    '''\n",
    "    return (X1.dot(X2.T) + 1)**degree"
   ]
  },
  {
   "cell_type": "markdown",
   "id": "cc226e43",
   "metadata": {},
   "source": [
    "### Kernel Methods"
   ]
  },
  {
   "cell_type": "code",
   "execution_count": 20,
   "id": "b65d8fca",
   "metadata": {},
   "outputs": [],
   "source": [
    "\n",
    "class KernelMethodBase(object):\n",
    "    '''\n",
    "    Base class for kernel methods models\n",
    "    \n",
    "    Methods\n",
    "    ----\n",
    "    fit\n",
    "    predict\n",
    "    fit_K\n",
    "    predict_K\n",
    "    '''\n",
    "    kernels_ = {\n",
    "        'linear': linear_kernel,\n",
    "        'polynomial': polynomial_kernel,\n",
    "        'rbf': rbf_kernel,\n",
    "        # 'mismatch': mismatch_kernel,\n",
    "    }\n",
    "    def __init__(self, kernel='linear', **kwargs):\n",
    "        self.kernel_name = kernel\n",
    "        self.kernel_function_ = self.kernels_[kernel]\n",
    "        self.kernel_parameters = self.get_kernel_parameters(**kwargs)\n",
    "        self.fit_intercept_ = False\n",
    "        \n",
    "    def get_kernel_parameters(self, **kwargs):\n",
    "        params = {}\n",
    "        if self.kernel_name == 'rbf':\n",
    "            params['sigma'] = kwargs.get('sigma', 1.)\n",
    "        if self.kernel_name == 'polynomial':\n",
    "            params['degree'] = kwargs.get('degree', 3)\n",
    "        return params\n",
    "\n",
    "    def fit_K(self, K, y, **kwargs):\n",
    "        pass\n",
    "        \n",
    "    def decision_function_K(self, K):\n",
    "        pass\n",
    "    \n",
    "    def fit(self, X, y, fit_intercept=False, **kwargs):\n",
    "\n",
    "        if fit_intercept:\n",
    "            X = add_column_ones(X)\n",
    "            self.fit_intercept_ = True\n",
    "        self.X_train = X\n",
    "        self.y_train = y\n",
    "\n",
    "        K = self.kernel_function_(self.X_train, self.X_train, **self.kernel_parameters)\n",
    "\n",
    "        return self.fit_K(K, y, **kwargs)\n",
    "    \n",
    "    def decision_function(self, X):\n",
    "\n",
    "        if self.fit_intercept_:\n",
    "            X = add_column_ones(X)\n",
    "\n",
    "        K_x = self.kernel_function_(X, self.X_train, **self.kernel_parameters)\n",
    "\n",
    "        return self.decision_function_K(K_x)\n",
    "\n",
    "    def predict(self, X):\n",
    "        pass\n",
    "    \n",
    "    def predict_K(self, K):\n",
    "        pass"
   ]
  },
  {
   "cell_type": "markdown",
   "id": "ef388dcd",
   "metadata": {},
   "source": [
    "### Kernel SVM"
   ]
  },
  {
   "cell_type": "code",
   "execution_count": 21,
   "id": "b6e0b3e4",
   "metadata": {},
   "outputs": [],
   "source": [
    "\n",
    "#Soft-margin dual problem\n",
    "\n",
    "def svm_dual_soft_to_qp_kernel(K, y, C=1):\n",
    "    n = K.shape[0]\n",
    "    assert (len(y) == n)\n",
    "        \n",
    "    # Dual formulation, soft margin\n",
    "#     P = np.diag(y).dot(K).dot(np.diag(y))\n",
    "    P=K*y*y[:,None]\n",
    "    # As a regularization, we add epsilon * identity to P\n",
    "    eps = 1e-12\n",
    "    P += eps * np.eye(n)\n",
    "    q = - np.ones(n)\n",
    "    G = np.vstack([-np.eye(n), np.eye(n)])\n",
    "    h = np.hstack([np.zeros(n), C * np.ones(n)])\n",
    "    A = y[np.newaxis, :]\n",
    "    b = np.array([0.])\n",
    "    return P, q, G, h, A, b\n",
    "\n",
    "K = linear_kernel(X_train, X_train)\n",
    "alphas = solve_qp(*svm_dual_soft_to_qp_kernel(K, y_train, C=1.))"
   ]
  },
  {
   "cell_type": "code",
   "execution_count": 22,
   "id": "ad6cdc8f",
   "metadata": {},
   "outputs": [],
   "source": [
    "class KernelSVM(KernelMethodBase):\n",
    "    '''\n",
    "    Kernel SVM Classification\n",
    "    \n",
    "    Methods\n",
    "    ----\n",
    "    fit\n",
    "    predict\n",
    "    '''\n",
    "    def __init__(self, C=0.1, **kwargs):\n",
    "        self.C = C\n",
    "        super().__init__(**kwargs)\n",
    "    \n",
    "    def fit_K(self, K, y, tol=1e-3):\n",
    "        # Solve dual problem\n",
    "        self.alpha = solve_qp(*svm_dual_soft_to_qp_kernel(K, y, C=self.C))\n",
    "        \n",
    "        # Compute support vectors and bias b\n",
    "        sv = np.logical_and((self.alpha > tol), (self.C - self.alpha > tol))\n",
    "        self.bias = y[sv] - K[sv].dot(self.alpha * y)\n",
    "        self.bias = self.bias.mean()\n",
    "\n",
    "        self.support_vector_indices = np.nonzero(sv)[0]\n",
    "        \n",
    "        return self\n",
    "        \n",
    "    def decision_function_K(self, K_x):\n",
    "        return K_x.dot(self.alpha * self.y_train) + self.bias\n",
    "\n",
    "    def predict(self, X):\n",
    "        return np.sign(self.decision_function(X))"
   ]
  },
  {
   "cell_type": "markdown",
   "id": "9d1b4762",
   "metadata": {},
   "source": [
    "### Test our Kernel SVM"
   ]
  },
  {
   "cell_type": "code",
   "execution_count": 23,
   "id": "f240294c",
   "metadata": {},
   "outputs": [
    {
     "name": "stdout",
     "output_type": "stream",
     "text": [
      "Test error: 48.50%\n"
     ]
    }
   ],
   "source": [
    "\n",
    "kernel = 'rbf'\n",
    "sigma = 1.\n",
    "degree = 3\n",
    "C =200\n",
    "tol = 1e-1\n",
    "model = KernelSVM(C=C, kernel=kernel, sigma=sigma, degree=degree)\n",
    "y_pred = model.fit(X_train, y_train, tol=tol).predict(X_test)\n",
    "# plot_decision_function(model, X_test, y_test,title='SVM {} Kernel'.format(kernel))\n",
    "print('Test error: {:.2%}'.format(error(y_pred, y_test)))"
   ]
  },
  {
   "cell_type": "code",
   "execution_count": 24,
   "id": "26222043",
   "metadata": {
    "scrolled": true
   },
   "outputs": [
    {
     "data": {
      "text/plain": [
       "array([-1.,  1.,  1., -1.,  1.,  1.,  1., -1.,  1.,  1., -1., -1., -1.,\n",
       "        1., -1.,  1., -1.,  1.,  1., -1.,  1.,  1.,  1.,  1., -1., -1.,\n",
       "       -1., -1., -1.,  1.,  1.,  1., -1.,  1.,  1.,  1., -1.,  1.,  1.,\n",
       "       -1.,  1.,  1., -1., -1.,  1., -1.,  1., -1.,  1.,  1.,  1., -1.,\n",
       "       -1., -1., -1.,  1.,  1.,  1.,  1., -1.,  1., -1.,  1., -1.,  1.,\n",
       "        1.,  1.,  1., -1.,  1.,  1.,  1.,  1.,  1.,  1., -1., -1.,  1.,\n",
       "        1., -1., -1.,  1., -1., -1., -1.,  1.,  1., -1.,  1.,  1.,  1.,\n",
       "        1., -1., -1., -1.,  1., -1.,  1., -1., -1.,  1.,  1.,  1.,  1.,\n",
       "       -1., -1.,  1., -1., -1., -1., -1., -1.,  1., -1., -1., -1.,  1.,\n",
       "        1., -1.,  1., -1., -1., -1., -1.,  1., -1., -1.,  1., -1.,  1.,\n",
       "        1., -1., -1.,  1., -1., -1.,  1.,  1., -1.,  1.,  1., -1., -1.,\n",
       "        1., -1., -1.,  1., -1.,  1.,  1., -1.,  1.,  1., -1.,  1., -1.,\n",
       "        1.,  1., -1.,  1.,  1.,  1., -1., -1., -1., -1.,  1., -1., -1.,\n",
       "        1., -1.,  1., -1., -1., -1.,  1., -1.,  1., -1.,  1.,  1., -1.,\n",
       "       -1.,  1.,  1., -1.,  1., -1., -1., -1., -1.,  1.,  1., -1., -1.,\n",
       "        1.,  1., -1.,  1., -1., -1., -1., -1., -1., -1.,  1.,  1., -1.,\n",
       "        1.,  1., -1., -1.,  1.,  1.,  1.,  1.,  1.,  1., -1., -1., -1.,\n",
       "       -1.,  1.,  1., -1.,  1.,  1.,  1., -1., -1.,  1.,  1., -1., -1.,\n",
       "       -1., -1., -1.,  1., -1.,  1.,  1., -1., -1., -1., -1.,  1., -1.,\n",
       "        1.,  1., -1., -1.,  1.,  1.,  1.,  1., -1.,  1.,  1.,  1.,  1.,\n",
       "       -1.,  1.,  1., -1., -1.,  1., -1.,  1.,  1., -1., -1., -1., -1.,\n",
       "        1.,  1.,  1., -1., -1., -1., -1., -1.,  1., -1., -1.,  1.,  1.,\n",
       "       -1.,  1., -1., -1., -1.,  1., -1., -1.,  1.,  1.,  1.,  1.,  1.,\n",
       "        1., -1., -1., -1., -1.,  1.,  1.,  1.,  1., -1.,  1., -1.,  1.,\n",
       "       -1.,  1.,  1.,  1., -1., -1., -1.,  1., -1.,  1.,  1., -1.,  1.,\n",
       "        1.,  1., -1., -1., -1.,  1., -1.,  1.,  1., -1.,  1., -1.,  1.,\n",
       "        1., -1., -1.,  1., -1.,  1., -1.,  1.,  1.,  1.,  1.,  1.,  1.,\n",
       "        1., -1., -1., -1., -1., -1., -1.,  1.,  1.,  1.,  1., -1.,  1.,\n",
       "        1.,  1.,  1.,  1., -1., -1., -1.,  1.,  1.,  1.,  1., -1.,  1.,\n",
       "       -1., -1., -1.,  1., -1.,  1.,  1.,  1., -1., -1., -1., -1., -1.,\n",
       "        1., -1., -1., -1.,  1., -1., -1., -1., -1., -1.,  1.,  1., -1.,\n",
       "        1.,  1.,  1.,  1.,  1.,  1., -1., -1.,  1., -1., -1.,  1., -1.,\n",
       "       -1., -1.,  1.,  1., -1., -1.,  1., -1., -1.,  1.,  1., -1.,  1.,\n",
       "        1.,  1., -1.,  1.,  1., -1., -1., -1.,  1.,  1.,  1.,  1.,  1.,\n",
       "       -1.,  1.,  1.,  1., -1., -1.,  1.,  1.,  1., -1.,  1., -1., -1.,\n",
       "        1.,  1., -1.,  1.,  1.,  1., -1., -1.,  1.,  1., -1., -1., -1.,\n",
       "       -1., -1., -1., -1.,  1.,  1., -1., -1., -1., -1.,  1., -1.,  1.,\n",
       "        1., -1., -1., -1., -1., -1.,  1.,  1.,  1., -1., -1., -1.,  1.,\n",
       "        1., -1.,  1.,  1.,  1.,  1., -1., -1., -1.,  1., -1.,  1.,  1.,\n",
       "        1.,  1.,  1.,  1.,  1.,  1.,  1.,  1.,  1.,  1.,  1.,  1.,  1.,\n",
       "        1.,  1., -1., -1.,  1., -1.,  1.,  1., -1.,  1.,  1., -1., -1.,\n",
       "       -1., -1.,  1., -1., -1., -1.,  1.,  1.,  1., -1.,  1., -1., -1.,\n",
       "       -1.,  1., -1., -1.,  1.,  1., -1.,  1., -1., -1., -1., -1., -1.,\n",
       "        1.,  1., -1., -1.,  1.,  1.,  1., -1., -1., -1.,  1.,  1.,  1.,\n",
       "       -1., -1.,  1., -1.,  1.,  1., -1.,  1., -1., -1.,  1., -1., -1.,\n",
       "       -1.,  1., -1.,  1., -1.,  1., -1., -1.,  1.,  1., -1., -1.,  1.,\n",
       "       -1.,  1.,  1., -1.,  1.,  1., -1.,  1., -1.,  1., -1.,  1.,  1.,\n",
       "       -1.,  1., -1., -1., -1.,  1.,  1., -1.,  1.,  1.,  1., -1.,  1.,\n",
       "        1.,  1.,  1., -1., -1.,  1.,  1., -1., -1.,  1., -1.,  1.,  1.,\n",
       "        1.,  1., -1.,  1., -1.,  1., -1.,  1., -1.,  1., -1., -1., -1.,\n",
       "       -1., -1.,  1., -1., -1., -1.,  1.,  1., -1.,  1., -1.,  1.,  1.,\n",
       "       -1., -1.,  1.,  1.,  1., -1., -1., -1., -1.,  1., -1.,  1.,  1.,\n",
       "       -1.,  1., -1.,  1., -1.,  1., -1., -1.,  1.,  1.,  1., -1., -1.,\n",
       "        1.,  1.,  1.,  1., -1., -1., -1., -1., -1.,  1., -1., -1.,  1.,\n",
       "       -1.,  1., -1.,  1., -1.,  1.,  1.,  1.,  1.,  1.,  1., -1., -1.,\n",
       "        1.,  1., -1.,  1., -1.,  1., -1., -1., -1., -1.,  1., -1., -1.,\n",
       "        1., -1.,  1.,  1.,  1., -1.,  1., -1., -1.,  1.,  1., -1.,  1.,\n",
       "       -1., -1.,  1., -1.,  1.,  1.,  1.,  1., -1.,  1., -1., -1.,  1.,\n",
       "       -1., -1.,  1., -1.,  1., -1.,  1.,  1.,  1., -1.,  1.,  1., -1.,\n",
       "        1., -1., -1.,  1., -1., -1., -1., -1.,  1., -1., -1., -1., -1.,\n",
       "       -1., -1., -1.,  1.,  1., -1., -1.,  1., -1.,  1.,  1., -1.,  1.,\n",
       "        1.,  1.,  1., -1., -1., -1., -1., -1., -1.,  1., -1.,  1., -1.,\n",
       "        1.,  1., -1., -1.,  1., -1., -1., -1., -1., -1., -1., -1.,  1.,\n",
       "       -1.,  1., -1.,  1., -1.,  1., -1., -1.,  1.,  1., -1.,  1.,  1.,\n",
       "        1.,  1.,  1.,  1.,  1.,  1., -1.,  1., -1.,  1.,  1., -1.,  1.,\n",
       "       -1.,  1.,  1.,  1.,  1., -1.,  1., -1., -1., -1., -1., -1.,  1.,\n",
       "        1.,  1.,  1., -1., -1.,  1.,  1., -1., -1.,  1., -1.,  1.,  1.,\n",
       "       -1.,  1., -1.,  1., -1.,  1., -1., -1., -1., -1., -1.,  1., -1.,\n",
       "       -1.,  1., -1.,  1., -1., -1.,  1.,  1.,  1., -1.,  1.,  1.,  1.,\n",
       "       -1., -1., -1.,  1., -1.,  1.,  1.,  1., -1., -1.,  1., -1., -1.,\n",
       "        1., -1.,  1.,  1.,  1., -1., -1., -1.,  1.,  1.,  1.,  1., -1.,\n",
       "       -1.,  1., -1.,  1.,  1., -1., -1.,  1., -1., -1., -1., -1.,  1.,\n",
       "       -1.,  1., -1., -1., -1., -1., -1., -1.,  1., -1., -1.,  1., -1.,\n",
       "       -1.,  1., -1., -1.,  1.,  1.,  1.,  1.,  1.,  1., -1., -1.,  1.,\n",
       "        1., -1., -1.,  1.,  1.,  1.,  1., -1., -1.,  1., -1.,  1., -1.,\n",
       "        1., -1., -1., -1.,  1.,  1., -1., -1., -1., -1.,  1., -1., -1.,\n",
       "        1., -1.,  1.,  1.,  1., -1.,  1.,  1.,  1., -1., -1., -1.])"
      ]
     },
     "execution_count": 24,
     "metadata": {},
     "output_type": "execute_result"
    }
   ],
   "source": [
    "y_pred"
   ]
  },
  {
   "cell_type": "code",
   "execution_count": 25,
   "id": "fd79211b",
   "metadata": {},
   "outputs": [],
   "source": [
    "pred = np.where(y_pred == -1, 0, 1) #To convert all -1 values to 0"
   ]
  },
  {
   "cell_type": "code",
   "execution_count": 26,
   "id": "23269378",
   "metadata": {},
   "outputs": [
    {
     "data": {
      "text/plain": [
       "array([0, 1, 1, 0, 1, 1, 1, 0, 1, 1, 0, 0, 0, 1, 0, 1, 0, 1, 1, 0, 1, 1,\n",
       "       1, 1, 0, 0, 0, 0, 0, 1, 1, 1, 0, 1, 1, 1, 0, 1, 1, 0, 1, 1, 0, 0,\n",
       "       1, 0, 1, 0, 1, 1, 1, 0, 0, 0, 0, 1, 1, 1, 1, 0, 1, 0, 1, 0, 1, 1,\n",
       "       1, 1, 0, 1, 1, 1, 1, 1, 1, 0, 0, 1, 1, 0, 0, 1, 0, 0, 0, 1, 1, 0,\n",
       "       1, 1, 1, 1, 0, 0, 0, 1, 0, 1, 0, 0, 1, 1, 1, 1, 0, 0, 1, 0, 0, 0,\n",
       "       0, 0, 1, 0, 0, 0, 1, 1, 0, 1, 0, 0, 0, 0, 1, 0, 0, 1, 0, 1, 1, 0,\n",
       "       0, 1, 0, 0, 1, 1, 0, 1, 1, 0, 0, 1, 0, 0, 1, 0, 1, 1, 0, 1, 1, 0,\n",
       "       1, 0, 1, 1, 0, 1, 1, 1, 0, 0, 0, 0, 1, 0, 0, 1, 0, 1, 0, 0, 0, 1,\n",
       "       0, 1, 0, 1, 1, 0, 0, 1, 1, 0, 1, 0, 0, 0, 0, 1, 1, 0, 0, 1, 1, 0,\n",
       "       1, 0, 0, 0, 0, 0, 0, 1, 1, 0, 1, 1, 0, 0, 1, 1, 1, 1, 1, 1, 0, 0,\n",
       "       0, 0, 1, 1, 0, 1, 1, 1, 0, 0, 1, 1, 0, 0, 0, 0, 0, 1, 0, 1, 1, 0,\n",
       "       0, 0, 0, 1, 0, 1, 1, 0, 0, 1, 1, 1, 1, 0, 1, 1, 1, 1, 0, 1, 1, 0,\n",
       "       0, 1, 0, 1, 1, 0, 0, 0, 0, 1, 1, 1, 0, 0, 0, 0, 0, 1, 0, 0, 1, 1,\n",
       "       0, 1, 0, 0, 0, 1, 0, 0, 1, 1, 1, 1, 1, 1, 0, 0, 0, 0, 1, 1, 1, 1,\n",
       "       0, 1, 0, 1, 0, 1, 1, 1, 0, 0, 0, 1, 0, 1, 1, 0, 1, 1, 1, 0, 0, 0,\n",
       "       1, 0, 1, 1, 0, 1, 0, 1, 1, 0, 0, 1, 0, 1, 0, 1, 1, 1, 1, 1, 1, 1,\n",
       "       0, 0, 0, 0, 0, 0, 1, 1, 1, 1, 0, 1, 1, 1, 1, 1, 0, 0, 0, 1, 1, 1,\n",
       "       1, 0, 1, 0, 0, 0, 1, 0, 1, 1, 1, 0, 0, 0, 0, 0, 1, 0, 0, 0, 1, 0,\n",
       "       0, 0, 0, 0, 1, 1, 0, 1, 1, 1, 1, 1, 1, 0, 0, 1, 0, 0, 1, 0, 0, 0,\n",
       "       1, 1, 0, 0, 1, 0, 0, 1, 1, 0, 1, 1, 1, 0, 1, 1, 0, 0, 0, 1, 1, 1,\n",
       "       1, 1, 0, 1, 1, 1, 0, 0, 1, 1, 1, 0, 1, 0, 0, 1, 1, 0, 1, 1, 1, 0,\n",
       "       0, 1, 1, 0, 0, 0, 0, 0, 0, 0, 1, 1, 0, 0, 0, 0, 1, 0, 1, 1, 0, 0,\n",
       "       0, 0, 0, 1, 1, 1, 0, 0, 0, 1, 1, 0, 1, 1, 1, 1, 0, 0, 0, 1, 0, 1,\n",
       "       1, 1, 1, 1, 1, 1, 1, 1, 1, 1, 1, 1, 1, 1, 1, 1, 0, 0, 1, 0, 1, 1,\n",
       "       0, 1, 1, 0, 0, 0, 0, 1, 0, 0, 0, 1, 1, 1, 0, 1, 0, 0, 0, 1, 0, 0,\n",
       "       1, 1, 0, 1, 0, 0, 0, 0, 0, 1, 1, 0, 0, 1, 1, 1, 0, 0, 0, 1, 1, 1,\n",
       "       0, 0, 1, 0, 1, 1, 0, 1, 0, 0, 1, 0, 0, 0, 1, 0, 1, 0, 1, 0, 0, 1,\n",
       "       1, 0, 0, 1, 0, 1, 1, 0, 1, 1, 0, 1, 0, 1, 0, 1, 1, 0, 1, 0, 0, 0,\n",
       "       1, 1, 0, 1, 1, 1, 0, 1, 1, 1, 1, 0, 0, 1, 1, 0, 0, 1, 0, 1, 1, 1,\n",
       "       1, 0, 1, 0, 1, 0, 1, 0, 1, 0, 0, 0, 0, 0, 1, 0, 0, 0, 1, 1, 0, 1,\n",
       "       0, 1, 1, 0, 0, 1, 1, 1, 0, 0, 0, 0, 1, 0, 1, 1, 0, 1, 0, 1, 0, 1,\n",
       "       0, 0, 1, 1, 1, 0, 0, 1, 1, 1, 1, 0, 0, 0, 0, 0, 1, 0, 0, 1, 0, 1,\n",
       "       0, 1, 0, 1, 1, 1, 1, 1, 1, 0, 0, 1, 1, 0, 1, 0, 1, 0, 0, 0, 0, 1,\n",
       "       0, 0, 1, 0, 1, 1, 1, 0, 1, 0, 0, 1, 1, 0, 1, 0, 0, 1, 0, 1, 1, 1,\n",
       "       1, 0, 1, 0, 0, 1, 0, 0, 1, 0, 1, 0, 1, 1, 1, 0, 1, 1, 0, 1, 0, 0,\n",
       "       1, 0, 0, 0, 0, 1, 0, 0, 0, 0, 0, 0, 0, 1, 1, 0, 0, 1, 0, 1, 1, 0,\n",
       "       1, 1, 1, 1, 0, 0, 0, 0, 0, 0, 1, 0, 1, 0, 1, 1, 0, 0, 1, 0, 0, 0,\n",
       "       0, 0, 0, 0, 1, 0, 1, 0, 1, 0, 1, 0, 0, 1, 1, 0, 1, 1, 1, 1, 1, 1,\n",
       "       1, 1, 0, 1, 0, 1, 1, 0, 1, 0, 1, 1, 1, 1, 0, 1, 0, 0, 0, 0, 0, 1,\n",
       "       1, 1, 1, 0, 0, 1, 1, 0, 0, 1, 0, 1, 1, 0, 1, 0, 1, 0, 1, 0, 0, 0,\n",
       "       0, 0, 1, 0, 0, 1, 0, 1, 0, 0, 1, 1, 1, 0, 1, 1, 1, 0, 0, 0, 1, 0,\n",
       "       1, 1, 1, 0, 0, 1, 0, 0, 1, 0, 1, 1, 1, 0, 0, 0, 1, 1, 1, 1, 0, 0,\n",
       "       1, 0, 1, 1, 0, 0, 1, 0, 0, 0, 0, 1, 0, 1, 0, 0, 0, 0, 0, 0, 1, 0,\n",
       "       0, 1, 0, 0, 1, 0, 0, 1, 1, 1, 1, 1, 1, 0, 0, 1, 1, 0, 0, 1, 1, 1,\n",
       "       1, 0, 0, 1, 0, 1, 0, 1, 0, 0, 0, 1, 1, 0, 0, 0, 0, 1, 0, 0, 1, 0,\n",
       "       1, 1, 1, 0, 1, 1, 1, 0, 0, 0])"
      ]
     },
     "execution_count": 26,
     "metadata": {},
     "output_type": "execute_result"
    }
   ],
   "source": [
    "pred"
   ]
  },
  {
   "cell_type": "code",
   "execution_count": 27,
   "id": "65923cce",
   "metadata": {},
   "outputs": [
    {
     "data": {
      "text/plain": [
       "array([[ 1,  0],\n",
       "       [ 2,  1],\n",
       "       [ 3,  1],\n",
       "       [ 4,  0],\n",
       "       [ 5,  1],\n",
       "       [ 6,  1],\n",
       "       [ 7,  1],\n",
       "       [ 8,  0],\n",
       "       [ 9,  1],\n",
       "       [10,  1]])"
      ]
     },
     "execution_count": 27,
     "metadata": {},
     "output_type": "execute_result"
    }
   ],
   "source": [
    "Id=(np.arange(1000)+1).reshape(-1,1) #Creation of indexes\n",
    "y_save = np.c_[Id,pred] #Concatenate Indexes and y_pred\n",
    "y_save[:10]"
   ]
  },
  {
   "cell_type": "code",
   "execution_count": null,
   "id": "afad0bd8",
   "metadata": {},
   "outputs": [],
   "source": [
    "# Save as a csv file\n",
    "np.savetxt('sample_prediction9.csv', y_save,\n",
    "           delimiter=',', header='Id,Covid', fmt='%i', comments='')"
   ]
  },
  {
   "cell_type": "code",
   "execution_count": null,
   "id": "290663c5",
   "metadata": {},
   "outputs": [],
   "source": []
  }
 ],
 "metadata": {
  "kernelspec": {
   "display_name": "Python 3 (ipykernel)",
   "language": "python",
   "name": "python3"
  },
  "language_info": {
   "codemirror_mode": {
    "name": "ipython",
    "version": 3
   },
   "file_extension": ".py",
   "mimetype": "text/x-python",
   "name": "python",
   "nbconvert_exporter": "python",
   "pygments_lexer": "ipython3",
   "version": "3.9.7"
  }
 },
 "nbformat": 4,
 "nbformat_minor": 5
}
